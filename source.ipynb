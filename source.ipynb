{
 "cells": [
  {
   "cell_type": "code",
   "execution_count": 27,
   "metadata": {},
   "outputs": [],
   "source": [
    "# Libraries\n",
    "\n",
    "import numpy as np\n",
    "import matplotlib.pyplot as plt\n",
    "import pandas as pd\n",
    "import urllib.request"
   ]
  },
  {
   "cell_type": "code",
   "execution_count": 28,
   "metadata": {},
   "outputs": [],
   "source": [
    "# Load dataset\n",
    "\n",
    "\n",
    "url = 'https://archive.ics.uci.edu/ml/machine-learning-databases/iris/iris.data'\n",
    "filename = 'iris.csv'\n",
    "urllib.request.urlretrieve(url, filename)\n",
    "\n",
    "column_names = ['sepal_length', 'sepal_width', 'petal_length', 'petal_width', 'species']\n",
    "data = pd.read_csv(filename,names=column_names)"
   ]
  },
  {
   "cell_type": "code",
   "execution_count": 29,
   "metadata": {},
   "outputs": [
    {
     "data": {
      "text/html": [
       "<div>\n",
       "<style scoped>\n",
       "    .dataframe tbody tr th:only-of-type {\n",
       "        vertical-align: middle;\n",
       "    }\n",
       "\n",
       "    .dataframe tbody tr th {\n",
       "        vertical-align: top;\n",
       "    }\n",
       "\n",
       "    .dataframe thead th {\n",
       "        text-align: right;\n",
       "    }\n",
       "</style>\n",
       "<table border=\"1\" class=\"dataframe\">\n",
       "  <thead>\n",
       "    <tr style=\"text-align: right;\">\n",
       "      <th></th>\n",
       "      <th>sepal_length</th>\n",
       "      <th>sepal_width</th>\n",
       "      <th>petal_length</th>\n",
       "      <th>petal_width</th>\n",
       "      <th>species</th>\n",
       "    </tr>\n",
       "  </thead>\n",
       "  <tbody>\n",
       "    <tr>\n",
       "      <th>0</th>\n",
       "      <td>5.1</td>\n",
       "      <td>3.5</td>\n",
       "      <td>1.4</td>\n",
       "      <td>0.2</td>\n",
       "      <td>Iris-setosa</td>\n",
       "    </tr>\n",
       "    <tr>\n",
       "      <th>1</th>\n",
       "      <td>4.9</td>\n",
       "      <td>3.0</td>\n",
       "      <td>1.4</td>\n",
       "      <td>0.2</td>\n",
       "      <td>Iris-setosa</td>\n",
       "    </tr>\n",
       "    <tr>\n",
       "      <th>2</th>\n",
       "      <td>4.7</td>\n",
       "      <td>3.2</td>\n",
       "      <td>1.3</td>\n",
       "      <td>0.2</td>\n",
       "      <td>Iris-setosa</td>\n",
       "    </tr>\n",
       "    <tr>\n",
       "      <th>3</th>\n",
       "      <td>4.6</td>\n",
       "      <td>3.1</td>\n",
       "      <td>1.5</td>\n",
       "      <td>0.2</td>\n",
       "      <td>Iris-setosa</td>\n",
       "    </tr>\n",
       "    <tr>\n",
       "      <th>4</th>\n",
       "      <td>5.0</td>\n",
       "      <td>3.6</td>\n",
       "      <td>1.4</td>\n",
       "      <td>0.2</td>\n",
       "      <td>Iris-setosa</td>\n",
       "    </tr>\n",
       "  </tbody>\n",
       "</table>\n",
       "</div>"
      ],
      "text/plain": [
       "   sepal_length  sepal_width  petal_length  petal_width      species\n",
       "0           5.1          3.5           1.4          0.2  Iris-setosa\n",
       "1           4.9          3.0           1.4          0.2  Iris-setosa\n",
       "2           4.7          3.2           1.3          0.2  Iris-setosa\n",
       "3           4.6          3.1           1.5          0.2  Iris-setosa\n",
       "4           5.0          3.6           1.4          0.2  Iris-setosa"
      ]
     },
     "execution_count": 29,
     "metadata": {},
     "output_type": "execute_result"
    }
   ],
   "source": [
    "data.head()"
   ]
  },
  {
   "cell_type": "code",
   "execution_count": 30,
   "metadata": {},
   "outputs": [],
   "source": [
    "# Splitting data\n",
    "\n",
    "np.random.seed(10)\n",
    "data = data.sample(frac=1).reset_index(drop=True)\n",
    "data_array = data.values\n",
    "\n",
    "indices = np.random.permutation(len(data_array))\n",
    "\n",
    "training_idx, test_idx = indices[:int(len(data_array)*0.8)], indices[int(len(data_array)*0.8):]\n",
    "train, test = data_array[training_idx,:], data_array[test_idx,:]\n",
    "\n",
    "trainX = train[:,0:4].astype('float64')\n",
    "trainY = train[:,4]\n",
    "testX = test[:,0:4].astype('float64')\n",
    "testY = test[:,4]"
   ]
  },
  {
   "cell_type": "code",
   "execution_count": 31,
   "metadata": {},
   "outputs": [
    {
     "name": "stdout",
     "output_type": "stream",
     "text": [
      "120 30\n",
      "[5.4 3.  4.5 1.5] Iris-versicolor\n"
     ]
    }
   ],
   "source": [
    "# Checking the 80-20 split\n",
    "\n",
    "print(len(trainX), len(testX))\n",
    "print(trainX[0], trainY[0])"
   ]
  },
  {
   "cell_type": "code",
   "execution_count": 32,
   "metadata": {},
   "outputs": [
    {
     "name": "stdout",
     "output_type": "stream",
     "text": [
      "['Iris-versicolor' 'Iris-virginica' 'Iris-setosa']\n"
     ]
    }
   ],
   "source": [
    "# Reformatting targets\n",
    "\n",
    "class_names = data['species'].unique()\n",
    "print(class_names)\n",
    "class_names = np.sort(class_names)\n",
    "# Convert class names to indexes\n",
    "dct = {class_name: i for i, class_name in enumerate(class_names)}\n",
    "replace_values = np.vectorize(lambda x: dct[x])\n",
    "trainY = replace_values(trainY)\n",
    "testY = replace_values(testY)"
   ]
  },
  {
   "cell_type": "markdown",
   "metadata": {},
   "source": [
    "## Basic Binary Perceptron"
   ]
  },
  {
   "cell_type": "code",
   "execution_count": 33,
   "metadata": {},
   "outputs": [],
   "source": [
    "class BinaryPerceptron:\n",
    "    def __init__(self, num_features):\n",
    "        # initialize the weights to zeros\n",
    "        self.weights = np.zeros(num_features).astype('float64')\n",
    "        self.bias = 0\n",
    "\n",
    "    def print_weights(self):\n",
    "        print(self.weights, self.bias)\n",
    "    \n",
    "    def predict(self, x):\n",
    "        # predict the class label for a sample x\n",
    "        activation = np.dot(x,self.weights) + self.bias\n",
    "        return activation\n",
    "    \n",
    "    def train(self, X, y, num_epochs=1):\n",
    "        # train the model for num_epochs times\n",
    "        for _ in range(num_epochs):\n",
    "            for i in range(len(X)):\n",
    "                prediction = self.predict(X[i])\n",
    "                if y[i] * prediction <= 0:\n",
    "                    self.weights += y[i] * X[i]\n",
    "                    self.bias += y[i]\n"
   ]
  },
  {
   "cell_type": "markdown",
   "metadata": {},
   "source": [
    "## One vs All Perceptron Classifier"
   ]
  },
  {
   "cell_type": "code",
   "execution_count": 34,
   "metadata": {},
   "outputs": [],
   "source": [
    "class OneVsAllClassifier:\n",
    "    def __init__(self, base_classifier, num_classes, num_features):\n",
    "        # initialize the classifiers\n",
    "        self.num_classes = num_classes\n",
    "        self.classifiers = [base_classifier(num_features) for _ in range(num_classes)]\n",
    "\n",
    "    def train(self, X, y, num_epochs=1):\n",
    "        # train each classifier on the data\n",
    "        for i in range(len(self.classifiers)):\n",
    "            binary_targets = np.where(y == i, 1, -1)\n",
    "            self.classifiers[i].train(X, binary_targets)\n",
    "    \n",
    "    def getScores(self,X):\n",
    "        scores = np.array([classifier.predict(X) for classifier in self.classifiers])\n",
    "        return scores\n",
    "    \n",
    "    def predict(self, X):\n",
    "        # predict the class label for a sample x\n",
    "        scores = self.getScores(X)\n",
    "        # print(\"Scores: \", scores)\n",
    "        return np.argmax(scores, axis=0)\n",
    "\n",
    "    def printWeights(self):\n",
    "        for i, classifier in enumerate(self.classifiers):\n",
    "            print(\"Classifier: \", i)\n",
    "            print(\"Weights: \", classifier.weights)\n",
    "            print(\"Bias: \", classifier.bias)"
   ]
  },
  {
   "cell_type": "markdown",
   "metadata": {},
   "source": [
    "## One vs One Perceptron Classifier"
   ]
  },
  {
   "cell_type": "code",
   "execution_count": 35,
   "metadata": {},
   "outputs": [],
   "source": [
    "class OneVsOneClassifier:\n",
    "    def __init__(self, base_classifier, num_classes, num_features):\n",
    "        # initialize the classifiers\n",
    "        self.num_classes = num_classes\n",
    "        self.classifiers = []\n",
    "        for i in range(num_classes):\n",
    "            for j in range(i+1, num_classes):\n",
    "                self.classifiers.append((i,j,base_classifier(num_features)))\n",
    "\n",
    "    def train(self, X, y, num_epochs=1):\n",
    "        # train each classifier on the data\n",
    "        for i, classifier in enumerate(self.classifiers):\n",
    "            class1, class2, clf = classifier\n",
    "            binary_targets = np.where(y == class1, 1, -1)\n",
    "            binary_targets = np.where(y == class2, -1, binary_targets)\n",
    "            clf.train(X, binary_targets)\n",
    "    \n",
    "    def getScores(self,X):\n",
    "        scores = np.zeros((self.num_classes, X.shape[0]))\n",
    "        for i, classifier in enumerate(self.classifiers):\n",
    "            class1, class2, clf = classifier\n",
    "            scores[class1] += np.where(clf.predict(X) > 0, 1, -1)\n",
    "            scores[class2] += np.where(clf.predict(X) > 0, -1, 1)\n",
    "        return scores\n",
    "    \n",
    "    def predict(self, X):\n",
    "        # predict the class label for a sample x\n",
    "        scores = self.getScores(X)\n",
    "        # print(\"Scores: \", scores)\n",
    "        return np.argmax(scores, axis=0)\n",
    "\n",
    "    def printWeights(self):\n",
    "        for i, classifier in enumerate(self.classifiers):\n",
    "            print(\"Classifier: \", i)\n",
    "            print(\"Weights: \", classifier.weights)\n",
    "            print(\"Bias: \", classifier.bias)"
   ]
  },
  {
   "cell_type": "markdown",
   "metadata": {},
   "source": [
    "## Testing Phase\n",
    "\n",
    "First, we do some testing on the one vs all classifier. Then, we will repeat with one vs one."
   ]
  },
  {
   "cell_type": "code",
   "execution_count": 36,
   "metadata": {},
   "outputs": [
    {
     "name": "stdout",
     "output_type": "stream",
     "text": [
      "4\n",
      "3\n"
     ]
    }
   ],
   "source": [
    "num_features = trainX.shape[1]\n",
    "num_classes = len(class_names)\n",
    "print(num_features)\n",
    "print(num_classes)"
   ]
  },
  {
   "cell_type": "code",
   "execution_count": 37,
   "metadata": {},
   "outputs": [
    {
     "data": {
      "image/png": "[encoded data removed]",
      "text/plain": [
       "<Figure size 640x480 with 1 Axes>"
      ]
     },
     "metadata": {},
     "output_type": "display_data"
    },
    {
     "name": "stdout",
     "output_type": "stream",
     "text": [
      "Test Accuracy: \n",
      "The final accuracy is:  0.8666666666666667\n"
     ]
    }
   ],
   "source": [
    "ova_classifier = OneVsAllClassifier(BinaryPerceptron, num_classes, num_features)\n",
    "\n",
    "accuracyList = []\n",
    "num_epochs = 10\n",
    "times = np.linspace(1,num_epochs,num_epochs).astype(int)\n",
    "\n",
    "for epoch in range(num_epochs):\n",
    "    ova_classifier.train(trainX, trainY, 1)\n",
    "    ## old line\n",
    "    # predictions = ova_classifier.predict(trainX)\n",
    "    predictions = np.argmax(ova_classifier.getScores(trainX),axis=0)\n",
    "    accuracy = np.mean(predictions == trainY)\n",
    "    # print(\"Epoch: \", epoch, \" Accuracy: \", accuracy)\n",
    "    accuracyList.append(accuracy)\n",
    "\n",
    "# Assuming X_test is your test feature matrix\n",
    "plt.plot(times, accuracyList, label=\"Training Accuracy\")\n",
    "plt.xlabel(\"Epochs\")\n",
    "plt.ylabel(\"Accuracy\")\n",
    "plt.legend()\n",
    "plt.show()\n",
    "\n",
    "print(\"Test Accuracy: \")\n",
    "predictions = ova_classifier.predict(testX)\n",
    "accuracy = np.mean(predictions == testY)\n",
    "print(\"The final accuracy is: \", accuracy)"
   ]
  },
  {
   "cell_type": "code",
   "execution_count": 38,
   "metadata": {},
   "outputs": [
    {
     "data": {
      "image/png": "[encoded data removed]",
      "text/plain": [
       "<Figure size 640x480 with 1 Axes>"
      ]
     },
     "metadata": {},
     "output_type": "display_data"
    },
    {
     "name": "stdout",
     "output_type": "stream",
     "text": [
      "Test Accuracy: \n",
      "The final accuracy is:  0.7666666666666667\n"
     ]
    }
   ],
   "source": [
    "ovo_classifier = OneVsOneClassifier(BinaryPerceptron, num_classes, num_features)\n",
    "\n",
    "accuracyList = []\n",
    "num_epochs = 10\n",
    "times = np.linspace(1,num_epochs,num_epochs).astype(int)\n",
    "\n",
    "for epoch in range(num_epochs):\n",
    "    ovo_classifier.train(trainX, trainY, 1)\n",
    "    ## old line\n",
    "    # predictions = ovo_classifier.predict(trainX)\n",
    "    predictions = np.argmax(ovo_classifier.getScores(trainX),axis=0)\n",
    "    accuracy = np.mean(predictions == trainY)\n",
    "    # print(\"Epoch: \", epoch, \" Accuracy: \", accuracy)\n",
    "    accuracyList.append(accuracy)\n",
    "\n",
    "# Assuming X_test is your test feature matrix\n",
    "plt.plot(times, accuracyList, label=\"Training Accuracy\")\n",
    "plt.xlabel(\"Epochs\")\n",
    "plt.ylabel(\"Accuracy\")\n",
    "plt.legend()\n",
    "plt.show()\n",
    "\n",
    "print(\"Test Accuracy: \")\n",
    "predictions = ovo_classifier.predict(testX)\n",
    "accuracy = np.mean(predictions == testY)\n",
    "print(\"The final accuracy is: \", accuracy)"
   ]
  },
  {
   "cell_type": "markdown",
   "metadata": {},
   "source": [
    "In this case, we see that the one vs one classifier performs slightly worse. It appears more natural that the one vs all would perform better, especially with a small number of epochs as the \"exact distinctions\" are much more random when adding up all the different pairings in the one vs one."
   ]
  },
  {
   "cell_type": "markdown",
   "metadata": {},
   "source": []
  }
 ],
 "metadata": {
  "kernelspec": {
   "display_name": "base",
   "language": "python",
   "name": "python3"
  },
  "language_info": {
   "codemirror_mode": {
    "name": "ipython",
    "version": 3
   },
   "file_extension": ".py",
   "mimetype": "text/x-python",
   "name": "python",
   "nbconvert_exporter": "python",
   "pygments_lexer": "ipython3",
   "version": "3.11.5"
  }
 },
 "nbformat": 4,
 "nbformat_minor": 2
}
