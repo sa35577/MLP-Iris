{
 "cells": [
  {
   "cell_type": "code",
   "execution_count": 14,
   "metadata": {},
   "outputs": [],
   "source": [
    "# Libraries\n",
    "\n",
    "import numpy as np\n",
    "import matplotlib.pyplot as plt\n",
    "import pandas as pd\n",
    "import urllib.request"
   ]
  },
  {
   "cell_type": "code",
   "execution_count": 15,
   "metadata": {},
   "outputs": [],
   "source": [
    "# Load dataset\n",
    "\n",
    "url = 'https://archive.ics.uci.edu/ml/machine-learning-databases/iris/iris.data'\n",
    "filename = 'iris.csv'\n",
    "urllib.request.urlretrieve(url, filename)\n",
    "\n",
    "column_names = ['sepal_length', 'sepal_width', 'petal_length', 'petal_width', 'species']\n",
    "data = pd.read_csv(filename,names=column_names)"
   ]
  },
  {
   "cell_type": "code",
   "execution_count": 16,
   "metadata": {},
   "outputs": [
    {
     "data": {
      "text/html": [
       "<div>\n",
       "<style scoped>\n",
       "    .dataframe tbody tr th:only-of-type {\n",
       "        vertical-align: middle;\n",
       "    }\n",
       "\n",
       "    .dataframe tbody tr th {\n",
       "        vertical-align: top;\n",
       "    }\n",
       "\n",
       "    .dataframe thead th {\n",
       "        text-align: right;\n",
       "    }\n",
       "</style>\n",
       "<table border=\"1\" class=\"dataframe\">\n",
       "  <thead>\n",
       "    <tr style=\"text-align: right;\">\n",
       "      <th></th>\n",
       "      <th>sepal_length</th>\n",
       "      <th>sepal_width</th>\n",
       "      <th>petal_length</th>\n",
       "      <th>petal_width</th>\n",
       "      <th>species</th>\n",
       "    </tr>\n",
       "  </thead>\n",
       "  <tbody>\n",
       "    <tr>\n",
       "      <th>0</th>\n",
       "      <td>5.1</td>\n",
       "      <td>3.5</td>\n",
       "      <td>1.4</td>\n",
       "      <td>0.2</td>\n",
       "      <td>Iris-setosa</td>\n",
       "    </tr>\n",
       "    <tr>\n",
       "      <th>1</th>\n",
       "      <td>4.9</td>\n",
       "      <td>3.0</td>\n",
       "      <td>1.4</td>\n",
       "      <td>0.2</td>\n",
       "      <td>Iris-setosa</td>\n",
       "    </tr>\n",
       "    <tr>\n",
       "      <th>2</th>\n",
       "      <td>4.7</td>\n",
       "      <td>3.2</td>\n",
       "      <td>1.3</td>\n",
       "      <td>0.2</td>\n",
       "      <td>Iris-setosa</td>\n",
       "    </tr>\n",
       "    <tr>\n",
       "      <th>3</th>\n",
       "      <td>4.6</td>\n",
       "      <td>3.1</td>\n",
       "      <td>1.5</td>\n",
       "      <td>0.2</td>\n",
       "      <td>Iris-setosa</td>\n",
       "    </tr>\n",
       "    <tr>\n",
       "      <th>4</th>\n",
       "      <td>5.0</td>\n",
       "      <td>3.6</td>\n",
       "      <td>1.4</td>\n",
       "      <td>0.2</td>\n",
       "      <td>Iris-setosa</td>\n",
       "    </tr>\n",
       "  </tbody>\n",
       "</table>\n",
       "</div>"
      ],
      "text/plain": [
       "   sepal_length  sepal_width  petal_length  petal_width      species\n",
       "0           5.1          3.5           1.4          0.2  Iris-setosa\n",
       "1           4.9          3.0           1.4          0.2  Iris-setosa\n",
       "2           4.7          3.2           1.3          0.2  Iris-setosa\n",
       "3           4.6          3.1           1.5          0.2  Iris-setosa\n",
       "4           5.0          3.6           1.4          0.2  Iris-setosa"
      ]
     },
     "execution_count": 16,
     "metadata": {},
     "output_type": "execute_result"
    }
   ],
   "source": [
    "data.head()"
   ]
  },
  {
   "cell_type": "code",
   "execution_count": 17,
   "metadata": {},
   "outputs": [],
   "source": [
    "# Splitting data\n",
    "\n",
    "np.random.seed(10)\n",
    "data = data.sample(frac=1).reset_index(drop=True)\n",
    "data_array = data.values\n",
    "\n",
    "indices = np.random.permutation(len(data_array))\n",
    "\n",
    "training_idx, test_idx = indices[:int(len(data_array)*0.8)], indices[int(len(data_array)*0.8):]\n",
    "train, test = data_array[training_idx,:], data_array[test_idx,:]\n",
    "\n",
    "trainX = train[:,0:4].astype('float64')\n",
    "trainY = train[:,4]\n",
    "testX = test[:,0:4].astype('float64')\n",
    "testY = test[:,4]"
   ]
  },
  {
   "cell_type": "code",
   "execution_count": 18,
   "metadata": {},
   "outputs": [
    {
     "name": "stdout",
     "output_type": "stream",
     "text": [
      "120 30\n",
      "[5.4 3.  4.5 1.5] Iris-versicolor\n"
     ]
    }
   ],
   "source": [
    "# Checking the 80-20 split\n",
    "\n",
    "print(len(trainX), len(testX))\n",
    "print(trainX[0], trainY[0])"
   ]
  },
  {
   "cell_type": "code",
   "execution_count": 20,
   "metadata": {},
   "outputs": [
    {
     "name": "stdout",
     "output_type": "stream",
     "text": [
      "['Iris-versicolor' 'Iris-virginica' 'Iris-setosa']\n"
     ]
    }
   ],
   "source": [
    "# Reformatting targets\n",
    "\n",
    "class_names = data['species'].unique()\n",
    "print(class_names)\n",
    "class_names = np.sort(class_names)\n",
    "# Convert class names to indexes\n",
    "dct = {class_name: i for i, class_name in enumerate(class_names)}\n",
    "replace_values = np.vectorize(lambda x: dct[x])\n",
    "trainY = replace_values(trainY)\n",
    "testY = replace_values(testY)"
   ]
  },
  {
   "cell_type": "markdown",
   "metadata": {},
   "source": [
    "## Basic Binary Perceptron"
   ]
  },
  {
   "cell_type": "code",
   "execution_count": 21,
   "metadata": {},
   "outputs": [],
   "source": [
    "class BinaryPerceptron:\n",
    "    def __init__(self, num_features):\n",
    "        # initialize the weights to zeros\n",
    "        self.weights = np.zeros(num_features).astype('float64')\n",
    "        self.bias = 0\n",
    "\n",
    "    def print_weights(self):\n",
    "        print(self.weights, self.bias)\n",
    "    \n",
    "    def predict(self, x):\n",
    "        # predict the class label for a sample x\n",
    "        activation = np.dot(x,self.weights) + self.bias\n",
    "        return activation\n",
    "    \n",
    "    def train(self, X, y, num_epochs=1):\n",
    "        # train the model for num_epochs times\n",
    "        for _ in range(num_epochs):\n",
    "            for i in range(len(X)):\n",
    "                prediction = self.predict(X[i])\n",
    "                if y[i] * prediction <= 0:\n",
    "                    self.weights += y[i] * X[i]\n",
    "                    self.bias += y[i]\n"
   ]
  },
  {
   "cell_type": "markdown",
   "metadata": {},
   "source": [
    "## One vs All Perceptron Classifier"
   ]
  },
  {
   "cell_type": "code",
   "execution_count": 22,
   "metadata": {},
   "outputs": [],
   "source": [
    "class OneVsAllClassifier:\n",
    "    def __init__(self, base_classifier, num_classes, num_features):\n",
    "        # initialize the classifiers\n",
    "        self.num_classes = num_classes\n",
    "        self.classifiers = [base_classifier(num_features) for _ in range(num_classes)]\n",
    "\n",
    "    def train(self, X, y, num_epochs=1):\n",
    "        # train each classifier on the data\n",
    "        for i in range(len(self.classifiers)):\n",
    "            binary_targets = np.where(y == i, 1, -1)\n",
    "            self.classifiers[i].train(X, binary_targets)\n",
    "    \n",
    "    def getScores(self,X):\n",
    "        scores = np.array([classifier.predict(X) for classifier in self.classifiers])\n",
    "        return scores\n",
    "    \n",
    "    def predict(self, X):\n",
    "        # predict the class label for a sample x\n",
    "        scores = self.getScores(X)\n",
    "        # print(\"Scores: \", scores)\n",
    "        return np.argmax(scores, axis=0)\n",
    "\n",
    "    def printWeights(self):\n",
    "        for i, classifier in enumerate(self.classifiers):\n",
    "            print(\"Classifier: \", i)\n",
    "            print(\"Weights: \", classifier.weights)\n",
    "            print(\"Bias: \", classifier.bias)"
   ]
  },
  {
   "cell_type": "markdown",
   "metadata": {},
   "source": [
    "## One vs One Perceptron Classifier"
   ]
  },
  {
   "cell_type": "code",
   "execution_count": null,
   "metadata": {},
   "outputs": [],
   "source": [
    "class OneVsOneClassifier:\n",
    "    def __init__(self, base_classifier, num_classes, num_features):\n",
    "        # initialize the classifiers\n",
    "        self.num_classes = num_classes\n",
    "        self.classifiers = []\n",
    "        for i in range(num_classes):\n",
    "            for j in range(i+1, num_classes):\n",
    "                self.classifiers.append((i,j,base_classifier(num_features)))\n",
    "\n",
    "    def train(self, X, y, num_epochs=1):\n",
    "        # train each classifier on the data\n",
    "        for i, classifier in enumerate(self.classifiers):\n",
    "            class1, class2, clf = classifier\n",
    "            binary_targets = np.where(y == class1, 1, -1)\n",
    "            binary_targets = np.where(y == class2, -1, binary_targets)\n",
    "            clf.train(X, binary_targets)\n",
    "    \n",
    "    def getScores(self,X):\n",
    "        scores = np.zeros((self.num_classes, X.shape[0]))\n",
    "        for i, classifier in enumerate(self.classifiers):\n",
    "            class1, class2, clf = classifier\n",
    "            scores[class1] += np.where(clf.predict(X) > 0, 1, -1)\n",
    "            scores[class2] += np.where(clf.predict(X) > 0, -1, 1)\n",
    "        return scores\n",
    "    \n",
    "    def predict(self, X):\n",
    "        # predict the class label for a sample x\n",
    "        scores = self.getScores(X)\n",
    "        # print(\"Scores: \", scores)\n",
    "        return np.argmax(scores, axis=0)\n",
    "\n",
    "    def printWeights(self):\n",
    "        for i, classifier in enumerate(self.classifiers):\n",
    "            print(\"Classifier: \", i)\n",
    "            print(\"Weights: \", classifier.weights)\n",
    "            print(\"Bias: \", classifier.bias)"
   ]
  }
 ],
 "metadata": {
  "kernelspec": {
   "display_name": "base",
   "language": "python",
   "name": "python3"
  },
  "language_info": {
   "codemirror_mode": {
    "name": "ipython",
    "version": 3
   },
   "file_extension": ".py",
   "mimetype": "text/x-python",
   "name": "python",
   "nbconvert_exporter": "python",
   "pygments_lexer": "ipython3",
   "version": "3.11.5"
  }
 },
 "nbformat": 4,
 "nbformat_minor": 2
}
